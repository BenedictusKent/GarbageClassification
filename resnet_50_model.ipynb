{
 "cells": [
  {
   "cell_type": "code",
   "execution_count": null,
   "metadata": {},
   "outputs": [],
   "source": [
    "import os\n",
    "import pickle\n",
    "import numpy as np\n",
    "import tensorflow as tf\n",
    "import matplotlib.pyplot as plt"
   ]
  },
  {
   "cell_type": "code",
   "execution_count": null,
   "metadata": {},
   "outputs": [],
   "source": [
    "if(os.path.exists(\"xtrain.pickle\")):\n",
    "    infile = open(\"xtrain.pickle\", \"rb\")\n",
    "    xtrain = pickle.load(infile)\n",
    "    infile.close()\n",
    "\n",
    "    infile = open(\"ytrain.pickle\", \"rb\")\n",
    "    ytrain = pickle.load(infile)\n",
    "    infile.close()\n",
    "\n",
    "    infile = open(\"xtest.pickle\", \"rb\")\n",
    "    xtest = pickle.load(infile)\n",
    "    infile.close()\n",
    "\n",
    "    infile = open(\"ytest.pickle\", \"rb\")\n",
    "    ytest = pickle.load(infile)\n",
    "    infile.close()\n",
    "\n",
    "    infile = open(\"xval.pickle\", \"rb\")\n",
    "    xval = pickle.load(infile)\n",
    "    infile.close()\n",
    "\n",
    "    infile = open(\"yval.pickle\", \"rb\")\n",
    "    yval = pickle.load(infile)\n",
    "    infile.close()\n",
    "else:\n",
    "    print(\"Split dataset first!\")"
   ]
  },
  {
   "cell_type": "code",
   "execution_count": null,
   "metadata": {},
   "outputs": [],
   "source": [
    "plt.imshow(xtrain[0])\n",
    "plt.show()"
   ]
  },
  {
   "cell_type": "code",
   "execution_count": null,
   "metadata": {},
   "outputs": [],
   "source": [
    "resnet = tf.keras.applications.ResNet50(\n",
    "    include_top = False, \n",
    "    weights = 'imagenet',\n",
    "    input_shape = (384,512,3)\n",
    ")\n",
    "\n",
    "model = tf.keras.models.Sequential()\n",
    "model.add(resnet)\n",
    "model.add(tf.keras.layers.GlobalAveragePooling2D())\n",
    "model.add(tf.keras.layers.Flatten())\n",
    "model.add(tf.keras.layers.Dense(1024, activation='relu'))\n",
    "model.add(tf.keras.layers.Dense(6, activation='softmax'))\n",
    "\n",
    "model.summary()\n",
    "\n",
    "model.compile(\n",
    "    optimizer = tf.keras.optimizers.Adam(learning_rate=0.00001), \n",
    "    loss = 'sparse_categorical_crossentropy', \n",
    "    metrics = ['accuracy']\n",
    ")"
   ]
  },
  {
   "cell_type": "code",
   "execution_count": null,
   "metadata": {},
   "outputs": [],
   "source": [
    "history = model.fit(xtrain, ytrain, \n",
    "                    batch_size=32, \n",
    "                    epochs=10, \n",
    "                    validation_data=(xval,yval))\n",
    "\n",
    "# accuracy graph\n",
    "plt.plot(history.history['accuracy'])\n",
    "plt.plot(history.history['val_accuracy'])\n",
    "plt.title('model accuracy')\n",
    "plt.ylabel('accuracy')\n",
    "plt.xlabel('epoch')\n",
    "plt.legend(['train', 'test'], loc='upper left')\n",
    "plt.show()\n",
    "\n",
    "# loss graph\n",
    "plt.plot(history.history['loss'])\n",
    "plt.plot(history.history['val_loss'])\n",
    "plt.title('model loss')\n",
    "plt.ylabel('loss')\n",
    "plt.xlabel('epoch')\n",
    "plt.legend(['train', 'test'], loc='upper left')\n",
    "plt.show()"
   ]
  },
  {
   "cell_type": "code",
   "execution_count": null,
   "metadata": {},
   "outputs": [],
   "source": [
    "prediction = model.predict(xtest)\n",
    "\n",
    "correct = 0\n",
    "wrong_index = []\n",
    "predicted_index = []\n",
    "\n",
    "for i in range(len(prediction)):\n",
    "    temp = np.argmax(prediction[i])\n",
    "    if (temp == ytest[i]):\n",
    "        correct += 1\n",
    "    else:\n",
    "        wrong_index.append(i)\n",
    "        predicted_index.append(temp)\n",
    "\n",
    "print(\"accuracy: \", correct / len(xtest) * 100)"
   ]
  },
  {
   "cell_type": "code",
   "execution_count": null,
   "metadata": {},
   "outputs": [],
   "source": [
    "cols = 6\n",
    "rows = int(len(wrong) / cols) + 1\n",
    "axes = []\n",
    "figs = plt.figure(figsize=(17,20))\n",
    "\n",
    "labels = [\"cardboard\", \"glass\", \"metal\", \n",
    "          \"paper\", \"plastic\", \"trash\"]\n",
    "\n",
    "for i in range(rows * cols):\n",
    "    if(i < len(wrong)):\n",
    "        axes.append(figs.add_subplot(rows, cols, i+1))\n",
    "        pic = xtest[wrong_index[i]]\n",
    "        name = labels[ytest[predicted_index[i]]]\n",
    "        axes[-1].set_title(name)\n",
    "        plt.imshow(pic)\n",
    "plt.show()"
   ]
  }
 ],
 "metadata": {
  "kernelspec": {
   "display_name": "Python 3",
   "language": "python",
   "name": "python3"
  },
  "language_info": {
   "codemirror_mode": {
    "name": "ipython",
    "version": 3
   },
   "file_extension": ".py",
   "mimetype": "text/x-python",
   "name": "python",
   "nbconvert_exporter": "python",
   "pygments_lexer": "ipython3",
   "version": "3.7.6"
  }
 },
 "nbformat": 4,
 "nbformat_minor": 4
}
