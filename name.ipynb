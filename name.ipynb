{
 "cells": [
  {
   "cell_type": "code",
   "execution_count": null,
   "metadata": {},
   "outputs": [],
   "source": [
    "pos = []\n",
    "\n",
    "with open(\"position.txt\") as file:\n",
    "    while True:\n",
    "        line = file.readline().strip()\n",
    "        if(line != ''):\n",
    "            pos.append(int(line))\n",
    "        else:\n",
    "            break\n",
    "            \n",
    "print(pos)"
   ]
  },
  {
   "cell_type": "code",
   "execution_count": null,
   "metadata": {},
   "outputs": [],
   "source": [
    "import os\n",
    "\n",
    "own = \"img/own\"\n",
    "card = \"cardboard\"\n",
    "glass = \"glass\"\n",
    "metal = \"metal\"\n",
    "paper = \"paper\"\n",
    "plastic = \"plastic\"\n",
    "trash = \"trash\"\n",
    "\n",
    "LABELS = {card:0, glass:1, metal:2, paper:3, plastic:4, trash: 5}\n",
    "\n",
    "temp = 0\n",
    "count = 0\n",
    "number = 0\n",
    "for label in LABELS:\n",
    "    path  = os.path.join(own , label)\n",
    "    number = pos[count]\n",
    "    print(path)\n",
    "    for image in os.listdir(path):\n",
    "        if((label in image) == False):\n",
    "            if((\".jpg\" in image) == True):\n",
    "                number += 1\n",
    "                print(image)\n",
    "                oldpath = os.path.join(path, image)\n",
    "                name = label + str(number) + \".jpg\"\n",
    "                newpath = os.path.join(path, name)\n",
    "                os.rename(oldpath, newpath)\n",
    "    pos[count] = number\n",
    "    count += 1\n",
    "\n",
    "file = open(\"position.txt\", \"w\")\n",
    "for i in range(len(pos)):\n",
    "    file.write(str(pos[i]))\n",
    "    if(i < len(pos)-1):\n",
    "        file.write(\"\\n\")\n",
    "file.close()"
   ]
  },
  {
   "cell_type": "code",
   "execution_count": null,
   "metadata": {},
   "outputs": [],
   "source": [
    "# just in case there is bug again\n",
    "\n",
    "trash = \"img/own/trash\"\n",
    "count = 30\n",
    "\n",
    "for j in range(30,54):\n",
    "    for i in os.listdir(trash):\n",
    "        past = \"trash{}.jpg\".format(count)\n",
    "        name = \"IMG_{}.jpg\".format(count)\n",
    "        if(i == past):\n",
    "            oldpath = os.path.join(trash, i)\n",
    "            newpath = os.path.join(trash, name)\n",
    "            os.rename(oldpath, newpath)\n",
    "            break\n",
    "    count += 1"
   ]
  }
 ],
 "metadata": {
  "kernelspec": {
   "display_name": "Python 3",
   "language": "python",
   "name": "python3"
  },
  "language_info": {
   "codemirror_mode": {
    "name": "ipython",
    "version": 3
   },
   "file_extension": ".py",
   "mimetype": "text/x-python",
   "name": "python",
   "nbconvert_exporter": "python",
   "pygments_lexer": "ipython3",
   "version": "3.7.6"
  }
 },
 "nbformat": 4,
 "nbformat_minor": 4
}
